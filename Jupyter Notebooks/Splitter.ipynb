{
 "cells": [
  {
   "cell_type": "markdown",
   "metadata": {},
   "source": [
    "\n",
    "<br>\n",
    "@author: Marcos Tulio Fermin Lopez<br>\n"
   ]
  },
  {
   "cell_type": "code",
   "execution_count": null,
   "metadata": {},
   "outputs": [],
   "source": [
    "import os\n",
    "import Data_Manager\n",
    "import json"
   ]
  },
  {
   "cell_type": "markdown",
   "metadata": {},
   "source": [
    "\n",
    " This module contains the functions needed to split the data if separate data files are needed.<br>\n"
   ]
  },
  {
   "cell_type": "code",
   "execution_count": null,
   "metadata": {},
   "outputs": [],
   "source": [
    "directoryName = \"Individual Simulation Data\"  # folder name"
   ]
  },
  {
   "cell_type": "code",
   "execution_count": null,
   "metadata": {},
   "outputs": [],
   "source": [
    "def makeFolder():\n",
    "    if os.path.exists(directoryName):\n",
    "        pass\n",
    "    else:\n",
    "        try:\n",
    "            os.mkdir(directoryName)\n",
    "        except OSError:\n",
    "            print(\"Creation of the directory failed\")\n",
    "        else:\n",
    "            print(\"Successfully created the directory\")"
   ]
  },
  {
   "cell_type": "code",
   "execution_count": null,
   "metadata": {},
   "outputs": [],
   "source": [
    "def createPIR():\n",
    "    makeFolder()\n",
    "    data = Data_Manager.get_data()\n",
    "    PIR = {  # dummy data needed to make the file a template\n",
    "        \"PIR\": {\n",
    "            \"carsServiced\": \"nil\",\n",
    "            \"simulationTime\": \"nil\",\n",
    "            \"AWT\": \"nil\"\n",
    "        }\n",
    "    }\n",
    "    if os.path.exists('Individual Simulation Data/PIR_data.json'):\n",
    "        with open('Individual Simulation Data/PIR_data.json', 'w') as f:  # read\n",
    "            PIR['PIR']['carsServiced'] = data['PIR']['carsServiced']\n",
    "            PIR['PIR']['simulationTime'] = data['PIR']['simulationTime']\n",
    "            PIR['PIR']['AWT'] = data['PIR']['AWT']\n",
    "            json.dump(PIR, f, indent=5)\n",
    "    else:\n",
    "\n",
    "        # the json file where the output must be stored\n",
    "        out_file = open(\"Individual Simulation Data/PIR_data.json\", \"w\")\n",
    "        if os.path.exists('simulation_data.json'):\n",
    "            PIR['PIR']['carsServiced'] = data['PIR']['carsServiced']\n",
    "            PIR['PIR']['simulationTime'] = data['PIR']['simulationTime']\n",
    "            PIR['PIR']['AWT'] = data['PIR']['AWT']\n",
    "            json.dump(PIR, out_file, indent=5)\n",
    "            print('File made')\n",
    "            out_file.close()\n",
    "        else:\n",
    "            json.dump(PIR, out_file, indent=5)\n",
    "            print('File made')\n",
    "            out_file.close()"
   ]
  },
  {
   "cell_type": "code",
   "execution_count": null,
   "metadata": {},
   "outputs": [],
   "source": [
    "def createCamera():\n",
    "    makeFolder()\n",
    "    data = Data_Manager.get_data()\n",
    "    Camera = {  # dummy data needed to make the file a template\n",
    "        \"Camera\": {\n",
    "            \"carsServiced\": \"0\",\n",
    "            \"simulationTime\": \"0\",\n",
    "            \"AWT\": \"0\"\n",
    "        },\n",
    "    }\n",
    "    if os.path.exists('Individual Simulation Data/Camera_data.json'):\n",
    "        with open('Individual Simulation Data/Camera_data.json', 'w') as f:  # read\n",
    "            Camera['Camera']['carsServiced'] = data['Camera']['carsServiced']\n",
    "            Camera['Camera']['simulationTime'] = data['Camera']['simulationTime']\n",
    "            Camera['Camera']['AWT'] = data['Camera']['AWT']\n",
    "            json.dump(Camera, f, indent=5)\n",
    "    else:\n",
    "\n",
    "        # the json file where the output must be stored\n",
    "        out_file = open(\"Individual Simulation Data/Camera_data.json\", \"w\")\n",
    "        if os.path.exists('simulation_data.json'):\n",
    "            Camera['Camera']['carsServiced'] = data['Camera']['carsServiced']\n",
    "            Camera['Camera']['simulationTime'] = data['Camera']['simulationTime']\n",
    "            Camera['Camera']['AWT'] = data['Camera']['AWT']\n",
    "            json.dump(Camera, out_file, indent=5)\n",
    "            print('File made')\n",
    "            out_file.close()\n",
    "        else:\n",
    "            json.dump(Camera, out_file, indent=5)\n",
    "            print('File made')\n",
    "            out_file.close()"
   ]
  },
  {
   "cell_type": "code",
   "execution_count": null,
   "metadata": {},
   "outputs": [],
   "source": [
    "def createAntenna():\n",
    "    makeFolder()\n",
    "    data = Data_Manager.get_data()\n",
    "    Antenna = {  # dummy data needed to make the file a template\n",
    "        \"Antenna\": {\n",
    "            \"carsServiced\": \"0\",\n",
    "            \"EastToWest\": \"0\",\n",
    "            \"NorthToSouth\": \"0\",\n",
    "            \"AWT\": \"0\"\n",
    "        },\n",
    "    }\n",
    "    if os.path.exists('Individual Simulation Data/Antenna_data.json'):\n",
    "        with open('Individual Simulation Data/Antenna_data.json', 'w') as f:  # read\n",
    "            Antenna['Antenna']['carsServiced'] = data['Antenna']['carsServiced']\n",
    "            Antenna['Antenna']['EastToWest'] = data['Antenna']['EastToWest']\n",
    "            Antenna['Antenna']['NorthToSouth'] = data['Antenna']['NorthToSouth']\n",
    "            Antenna['Antenna']['AWT'] = data['Antenna']['AWT']\n",
    "            json.dump(Antenna, f, indent=5)\n",
    "    else:\n",
    "\n",
    "        # the json file where the output must be stored\n",
    "        out_file = open(\"Individual Simulation Data/Antenna_data.json\", \"w\")\n",
    "        if os.path.exists('simulation_data.json'):\n",
    "            Antenna['Antenna']['carsServiced'] = data['Antenna']['carsServiced']\n",
    "            Antenna['Antenna']['EastToWest'] = data['Antenna']['EastToWest']\n",
    "            Antenna['Antenna']['NorthToSouth'] = data['Antenna']['NorthToSouth']\n",
    "            Antenna['Antenna']['AWT'] = data['Antenna']['AWT']\n",
    "            json.dump(Antenna, out_file, indent=5)\n",
    "            print('File made')\n",
    "            out_file.close()\n",
    "        else:\n",
    "            json.dump(Antenna, out_file, indent=5)\n",
    "            print('File made')\n",
    "            out_file.close()"
   ]
  },
  {
   "cell_type": "code",
   "execution_count": null,
   "metadata": {},
   "outputs": [],
   "source": [
    "def splitAll():  # splits all sims into a folder having each individual sim's data separate\n",
    "    createPIR()\n",
    "    createCamera()\n",
    "    createAntenna()"
   ]
  },
  {
   "cell_type": "code",
   "execution_count": null,
   "metadata": {},
   "outputs": [],
   "source": [
    "if __name__ == '__main__':\n",
    "    splitAll()"
   ]
  }
 ],
 "metadata": {
  "kernelspec": {
   "display_name": "Python 3 (ipykernel)",
   "language": "python",
   "name": "python3"
  },
  "language_info": {
   "codemirror_mode": {
    "name": "ipython",
    "version": 3
   },
   "file_extension": ".py",
   "mimetype": "text/x-python",
   "name": "python",
   "nbconvert_exporter": "python",
   "pygments_lexer": "ipython3",
   "version": "3.9.7"
  }
 },
 "nbformat": 4,
 "nbformat_minor": 2
}
