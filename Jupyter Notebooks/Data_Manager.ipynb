{
 "cells": [
  {
   "cell_type": "markdown",
   "metadata": {},
   "source": [
    "\n",
    "<br>\n",
    "@author: Marcos Tulio Fermin Lopez<br>\n"
   ]
  },
  {
   "cell_type": "code",
   "execution_count": null,
   "metadata": {},
   "outputs": [],
   "source": [
    "import json\n",
    "import os.path"
   ]
  },
  {
   "cell_type": "markdown",
   "metadata": {},
   "source": [
    "\n",
    " This module contains all functions used to retrieve the and save the desired data in a .json file.<br>\n"
   ]
  },
  {
   "cell_type": "code",
   "execution_count": null,
   "metadata": {},
   "outputs": [],
   "source": [
    "def get_data():\n",
    "\n",
    "    # if file exists on disk send it back else send dummy dat to prevent crash\n",
    "    if os.path.exists('simulation_data.json'):\n",
    "        with open('simulation_data.json', 'r+') as f:  # read\n",
    "            data = json.load(f)\n",
    "            return data\n",
    "    else:\n",
    "        print('\\nThere is so simulation data present on the drive!  --  returning dummy data to prevent crash')\n",
    "        trafficDataDict = {  # dummy data needed to make the file a template\n",
    "            \"PIR\": {\n",
    "                \"carsServiced\": \"0\",\n",
    "                \"simulationTime\": \"0\",\n",
    "                \"AWT\": \"0\"\n",
    "            },\n",
    "            \"Camera\": {\n",
    "                \"carsServiced\": \"0\",\n",
    "                \"simulationTime\": \"0\",\n",
    "                \"AWT\": \"0\"\n",
    "            },\n",
    "            \"Antenna\": {\n",
    "                \"carsServiced\": \"0\",\n",
    "                \"EastToWest\": \"0\",\n",
    "                \"NorthToSouth\": \"0\",\n",
    "                \"AWT\": \"0\"\n",
    "            },\n",
    "        }\n",
    "        return trafficDataDict"
   ]
  },
  {
   "cell_type": "code",
   "execution_count": null,
   "metadata": {},
   "outputs": [],
   "source": [
    "def make_data_file():\n",
    "    trafficDataDict = {  # dummy data needed to make the file a template\n",
    "        \"PIR\": {\n",
    "            \"carsServiced\": \"nil\",\n",
    "            \"simulationTime\": \"nil\",\n",
    "            \"AWT\": \"nil\"\n",
    "        },\n",
    "        \"Camera\": {\n",
    "            \"carsServiced\": \"nil\",\n",
    "            \"simulationTime\": \"nil\",\n",
    "            \"AWT\": \"nil\"\n",
    "        },\n",
    "        \"Antenna\": {\n",
    "            \"carsServiced\": \"nil\",\n",
    "            \"EastToWest\": \"nil\",\n",
    "            \"NorthToSouth\": \"nil\",\n",
    "            \"AWT\": \"nil\",\n",
    "        },\n",
    "    }\n",
    "\n",
    "    # the json file where the output must be stored\n",
    "    out_file = open(\"simulation_data.json\", \"w\")\n",
    "    json.dump(trafficDataDict, out_file, indent=5)\n",
    "    print('File made')\n",
    "    out_file.close()"
   ]
  },
  {
   "cell_type": "code",
   "execution_count": null,
   "metadata": {},
   "outputs": [],
   "source": [
    "def safely_check_if_file_exists():\n",
    "    if os.path.exists('simulation_data.json'):\n",
    "        pass\n",
    "    else:\n",
    "        print('Simulation data file is not present\\nMaking file . . .')\n",
    "        make_data_file()"
   ]
  },
  {
   "cell_type": "code",
   "execution_count": null,
   "metadata": {},
   "outputs": [],
   "source": [
    "def show_All_Data():\n",
    "    file = open('simulation_data.json', 'r+')\n",
    "\n",
    "    # returns JSON object as\n",
    "    # a dictionary\n",
    "    data = json.load(file)\n",
    "\n",
    "    # Iterating through the json\n",
    "    # list\n",
    "    for i in data:\n",
    "        print(i, data[i])"
   ]
  },
  {
   "cell_type": "code",
   "execution_count": null,
   "metadata": {},
   "outputs": [],
   "source": [
    "def save_Antenna(NorthToSouthCars, EastToWestCars, AWT):\n",
    "    safely_check_if_file_exists()\n",
    "    data = get_data()\n",
    "    with open('simulation_data.json', 'w') as f:  # write\n",
    "        data['Antenna']['EastToWest'] = EastToWestCars  # left and right\n",
    "        data['Antenna']['NorthToSouth'] = NorthToSouthCars  # top and bottom\n",
    "        data['Antenna']['AWT'] = AWT\n",
    "        data['Antenna']['carsServiced'] = (EastToWestCars+NorthToSouthCars)\n",
    "        json.dump(data, f, indent=5)"
   ]
  },
  {
   "cell_type": "code",
   "execution_count": null,
   "metadata": {},
   "outputs": [],
   "source": [
    "def save_PIR(carsSeviced, simulationTime, AWT):\n",
    "    safely_check_if_file_exists()\n",
    "    data = get_data()\n",
    "    with open('simulation_data.json', 'w') as f:  # write\n",
    "        data['PIR']['carsServiced'] = carsSeviced\n",
    "        data['PIR']['simulationTime'] = simulationTime\n",
    "        data['PIR']['AWT'] = AWT\n",
    "        json.dump(data, f, indent=5)"
   ]
  },
  {
   "cell_type": "code",
   "execution_count": null,
   "metadata": {},
   "outputs": [],
   "source": [
    "def save_Camera(carsSeviced, simulationTime, AWT):\n",
    "    safely_check_if_file_exists()\n",
    "    data = get_data()\n",
    "    with open('simulation_data.json', 'w') as f:  # write\n",
    "        data['Camera']['carsServiced'] = carsSeviced\n",
    "        data['Camera']['simulationTime'] = simulationTime\n",
    "        data['Camera']['AWT'] = AWT\n",
    "        json.dump(data, f, indent=5)"
   ]
  },
  {
   "cell_type": "code",
   "execution_count": null,
   "metadata": {},
   "outputs": [],
   "source": [
    "if __name__ == '__main__':\n",
    "\n",
    "    # save_PIR('1', '1')\n",
    "    # save_Camera('2', '2')\n",
    "    # show_All_Data()\n",
    "    # safely_check_if_file_exists()\n",
    "    pass"
   ]
  }
 ],
 "metadata": {
  "kernelspec": {
   "display_name": "Python 3 (ipykernel)",
   "language": "python",
   "name": "python3"
  },
  "language_info": {
   "codemirror_mode": {
    "name": "ipython",
    "version": 3
   },
   "file_extension": ".py",
   "mimetype": "text/x-python",
   "name": "python",
   "nbconvert_exporter": "python",
   "pygments_lexer": "ipython3",
   "version": "3.9.7"
  }
 },
 "nbformat": 4,
 "nbformat_minor": 2
}
