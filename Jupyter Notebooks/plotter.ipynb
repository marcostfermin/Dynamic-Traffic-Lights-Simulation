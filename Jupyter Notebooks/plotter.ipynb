{
 "cells": [
  {
   "cell_type": "markdown",
   "metadata": {},
   "source": [
    "\n",
    "<br>\n",
    "@author: Marcos Tulio Fermin Lopez<br>\n"
   ]
  },
  {
   "cell_type": "code",
   "execution_count": null,
   "metadata": {},
   "outputs": [],
   "source": [
    "import Data_Manager\n",
    "import matplotlib.pyplot as plt\n",
    "import Tables\n",
    "import tables  # for making the table"
   ]
  },
  {
   "cell_type": "markdown",
   "metadata": {},
   "source": [
    "\n",
    " This module contains the functions that generate the plots.<br>\n"
   ]
  },
  {
   "cell_type": "code",
   "execution_count": null,
   "metadata": {},
   "outputs": [],
   "source": [
    "def plot_AWT():\n",
    "    # creating the dataset\n",
    "    data = Data_Manager.get_data()\n",
    "    font = {'family': 'serif',  # you can change the font here or \n",
    "                                # remove fontdict = font in lin 31,32,33 and it'll type in the default font!\n",
    "            'color': 'black',\n",
    "            'weight': 'normal',\n",
    "            'size': 16,\n",
    "            }\n",
    "    keys = list(data.keys())\n",
    "    print('Techs: ', keys)\n",
    "    values = []\n",
    "    for i in keys:\n",
    "        val = int(data[i]['AWT'])  # convert to int\n",
    "        values.append(val)\n",
    "    print('Average Waiting Time (AWT):', values)\n",
    "    fig = plt.figure(figsize=(10, 5))\n",
    "\n",
    "    # creating the bar plot\n",
    "    plt.bar(keys, values, color='maroon', width=0.5)\n",
    "    plt.xlabel(\"Traffic Technology\", fontdict=font)\n",
    "    plt.ylabel(\"Average Waiting Time\", fontdict=font)\n",
    "    plt.title(\"Comparison of Average Waiting Time\", fontdict=font)\n",
    "    plt.grid(True)\n",
    "    plt.show()"
   ]
  },
  {
   "cell_type": "code",
   "execution_count": null,
   "metadata": {},
   "outputs": [],
   "source": [
    "def plot_Antenna():\n",
    "    # creating the dataset\n",
    "    data = Data_Manager.get_data()\n",
    "    font = {'family': 'serif',  # you can change the font here or \n",
    "                                # remove fontdict = font in lin 31,32,33 and it'll type in the default font!\n",
    "            'color': 'black',\n",
    "            'weight': 'normal',\n",
    "            'size': 16,\n",
    "            }\n",
    "    keys = list(data.keys())\n",
    "    print('Techs: ', keys)\n",
    "    values = []\n",
    "    EW = int(data['Antenna']['EastToWest'])  # convert to int\n",
    "    NS = int(data['Antenna']['NorthToSouth'])  # convert to int\n",
    "    keys = ['East-West', 'North-South']\n",
    "    values = [EW, NS]\n",
    "    print('Cars Served East-West & North-South:', values)\n",
    "    fig = plt.figure(figsize=(10, 5))\n",
    "\n",
    "    # creating the bar plot\n",
    "    plt.bar(keys, values, color='maroon', width=0.5)\n",
    "    plt.xlabel(\"Service Direction\", fontdict=font)\n",
    "    plt.ylabel(\"Cars Served\", fontdict=font)\n",
    "    plt.title(\"Cars Served by Antenna in East-West and North-South Direction\", fontdict=font)\n",
    "    plt.grid(True)\n",
    "    plt.show()"
   ]
  },
  {
   "cell_type": "code",
   "execution_count": null,
   "metadata": {},
   "outputs": [],
   "source": [
    "def show_graph():\n",
    "    # creating the dataset\n",
    "    data = Data_Manager.get_data()\n",
    "    font = {'family': 'serif',  # you can change the font here or \n",
    "                                # remove fontdict = font in lin 31,32,33 and it'll type in the default font!\n",
    "            'color': 'black',\n",
    "            'weight': 'normal',\n",
    "            'size': 16,\n",
    "            }\n",
    "    keys = list(data.keys())\n",
    "    print('Techs: ', keys)\n",
    "    values = []\n",
    "    for i in keys:\n",
    "        val = int(data[i]['carsServiced'])  # convert to int\n",
    "        values.append(val)\n",
    "    print('Cars Serviced:', values)\n",
    "    fig = plt.figure(figsize=(10, 5))\n",
    "\n",
    "    # creating the bar plot\n",
    "    plt.bar(keys, values, color='maroon', width=0.5)\n",
    "    plt.xlabel(\"Traffic Technology\", fontdict=font)\n",
    "    plt.ylabel(\"No. of Vehicles Serviced\", fontdict=font)\n",
    "    plt.title(\"Vehicles Serviced Based on Traffic Management Technology\", fontdict=font)\n",
    "    plt.grid(True)\n",
    "    plt.show()"
   ]
  },
  {
   "cell_type": "code",
   "execution_count": null,
   "metadata": {},
   "outputs": [],
   "source": [
    "def plot_all():  # Plots all graphs\n",
    "    show_graph()\n",
    "    plot_AWT()\n",
    "    plot_Antenna()\n",
    "    Tables.show_AWT_Table()"
   ]
  },
  {
   "cell_type": "code",
   "execution_count": null,
   "metadata": {},
   "outputs": [],
   "source": [
    "if __name__ == \"__main__\":\n",
    "    plot_all()\n",
    "   # plot_all()"
   ]
  }
 ],
 "metadata": {
  "kernelspec": {
   "display_name": "Python 3 (ipykernel)",
   "language": "python",
   "name": "python3"
  },
  "language_info": {
   "codemirror_mode": {
    "name": "ipython",
    "version": 3
   },
   "file_extension": ".py",
   "mimetype": "text/x-python",
   "name": "python",
   "nbconvert_exporter": "python",
   "pygments_lexer": "ipython3",
   "version": "3.9.7"
  }
 },
 "nbformat": 4,
 "nbformat_minor": 2
}
